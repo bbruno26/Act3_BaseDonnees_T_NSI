{
 "cells": [
  {
   "cell_type": "markdown",
   "metadata": {},
   "source": [
    "# ACTIVITE N°3 : MANIPULATION DE DONNEES DANS UNE BASE \n",
    "# -----------------------------A L'AIDE PYTHON------------------------------------"
   ]
  },
  {
   "cell_type": "markdown",
   "metadata": {},
   "source": [
    "A partir de maintenant, vous avez les connaissances pour réaliser une application s'appuyant sur une base de données. Il ne reste plus qu'à les appliquer dans le cadre d'un mini projet. Un exemple de mini-projet possible dans le domaine du BigData consiste à récupérer des données officielles et à s'aider du langage SQL pour les exploiter."
   ]
  },
  {
   "cell_type": "markdown",
   "metadata": {},
   "source": [
    "## A) LE JEU DE DONNEES UTILISE"
   ]
  },
  {
   "cell_type": "markdown",
   "metadata": {},
   "source": [
    "Une source intéressante pour récupérer des données est data.gouv.fr. Voici un exemple de jeu de données : [les données hospitalières liées au covid 19.](https://www.data.gouv.fr/fr/datasets/donnees-hospitalieres-relatives-a-lepidemie-de-covid-19/)\n",
    "\n",
    "La description de chacun des fichiers se trouve ici :[ Ici](https://www.data.gouv.fr/fr/datasets/r/3f0f1885-25f4-4102-bbab-edec5a58e34a)\n",
    "\n",
    "* Téléchargez le fichier donnees-hospitalieres-covid19-2020-08-14-19h00.csv le plus récent. Décompressez le et analysez sa structure.\n",
    "* Créez une nouvelle base de données et au départ une seule table à l'intérieur : Resultat\n",
    "* Créez dans chacune des tables une clé primaire nommée IdNomTable ainsi que des attributs correspondants aux intitulés de colonne\n",
    "* A l'aide de Python, lisez chacun des fichiers et peuplez les tables correspondantes.\n",
    "* Créez des requêtes SQL afin de vous renseigner sur l'évolution de la maladie en France et en Guyane.\n"
   ]
  },
  {
   "cell_type": "markdown",
   "metadata": {},
   "source": [
    "## B) CREATION DE LA BASE\n",
    "\n",
    "Nous créons d'abord la base."
   ]
  },
  {
   "cell_type": "code",
   "execution_count": null,
   "metadata": {},
   "outputs": [],
   "source": [
    "import sqlite3\n",
    "bdd = sqlite3.connect(\"COVID19_France_db\")\n",
    "curseur = bdd.cursor()"
   ]
  },
  {
   "cell_type": "markdown",
   "metadata": {},
   "source": [
    "Puis nous incluons une table nommée."
   ]
  },
  {
   "cell_type": "code",
   "execution_count": null,
   "metadata": {},
   "outputs": [],
   "source": [
    "# Creation table Communes\n",
    "requete = \"\"\"\n",
    "CREATE TABLE RESULTATS\n",
    "(\n",
    "    Id INTEGER  PRIMARY KEY,\n",
    "    departement INTEGER,\n",
    "    sexe INTEGER,\n",
    "    date TEXT,\n",
    "    nombre_hosptalisees INTEGER,\n",
    "    nombre_en_reanimation INTEGER,\n",
    "    nombre_retour_domicile INTEGER,\n",
    "    nombre_morts INTEGER\n",
    ");\"\"\"\n",
    "curseur.execute(requete)\n",
    "\n",
    "# Creation de la table Resultats\n",
    "\n",
    "# YOUR CODE HERE\n",
    "# raise NotImplementedError()\n",
    "\n",
    "# On enregistre les changements !\n",
    "\n",
    "bdd.commit()"
   ]
  },
  {
   "cell_type": "code",
   "execution_count": null,
   "metadata": {},
   "outputs": [],
   "source": []
  },
  {
   "cell_type": "markdown",
   "metadata": {},
   "source": [
    "## C) ALIMENTATION DE LA BASE EN DONNEES\n",
    "\n",
    "J'utilise le fichier csv fourni par l'état et j'entre les données du fichier ligne par ligne, en ajoutant ma clé, dans ma table."
   ]
  },
  {
   "cell_type": "code",
   "execution_count": null,
   "metadata": {},
   "outputs": [],
   "source": [
    "# Exemple d'import d'un fichier CSV dans une BDD\n",
    "\n",
    "import csv\n",
    "\n",
    "with open('donnees-hospitalieres-covid19-2020-08-14-19h00.csv', newline='') as csvfile:\n",
    "    nb_lignes = 0\n",
    "    lignes = csv.reader(csvfile,delimiter=';')\n",
    "    entete = True\n",
    "    for l in lignes:\n",
    "        if entete:\n",
    "            entete = False\n",
    "        else:\n",
    "            nb_lignes += 1\n",
    "            requete = f\"\"\"\n",
    "            INSERT INTO RESULTATS\n",
    "                (departement,sexe,date,nombre_hosptalisees,nombre_en_reanimation,nombre_retour_domicile,nombre_morts)\n",
    "            VALUES\n",
    "                (?, ?, ?, ?, ?, ?,?)\n",
    "            \"\"\"\n",
    "            curseur.execute(requete, l)\n",
    "    bdd.commit()\n",
    "    print(f\"{nb_lignes} enregistrements créés\")"
   ]
  },
  {
   "cell_type": "markdown",
   "metadata": {},
   "source": [
    "## D) RECUPERATION DE DONNES DE LA BASE ET INTERROGATION DE CELLE-CI\n",
    "\n",
    "J'utilise le fichier csv fourni par l'état et j'entre les données du fichier ligne par ligne, en ajoutant ma clé, dans ma table."
   ]
  },
  {
   "cell_type": "code",
   "execution_count": null,
   "metadata": {},
   "outputs": [],
   "source": [
    "requete = \"SELECT * FROM RESULTATS;\"\n",
    "curseur.execute(requete)"
   ]
  },
  {
   "cell_type": "markdown",
   "metadata": {},
   "source": [
    "Pour visualiser le résultat, deux solutions sont possibles, c'est à dire deux méthodes :\n",
    "- fetchone() pour récupérer un résultat puis avancer le curseur d'un cran\n",
    "- fetchall() pour récupérer d'un coup tous les résultats.\n",
    "\n",
    "Regardons le résultat de la première méthode :\n",
    "\n",
    "\n"
   ]
  },
  {
   "cell_type": "code",
   "execution_count": null,
   "metadata": {},
   "outputs": [],
   "source": [
    "curseur.fetchone()"
   ]
  },
  {
   "cell_type": "code",
   "execution_count": null,
   "metadata": {},
   "outputs": [],
   "source": [
    "curseur.fetchall()"
   ]
  },
  {
   "cell_type": "markdown",
   "metadata": {},
   "source": [
    "Donc la méthode envoie sous forme d'un tuple le premier uplet de la base.\n",
    "Et la deuxième méthode renvoie l'intégralité des uplets de la base dans un tuple.\n",
    "Attention, si vous avez utilisé la méthode fetchone() avant, vous avez décalé le curseur d'un rang et donc dans le tuple renvoyé par la fonction fetchall() il manque le premier uplet."
   ]
  },
  {
   "cell_type": "markdown",
   "metadata": {},
   "source": [
    "Encore une petite astuce, executer l'expression suivante :"
   ]
  },
  {
   "cell_type": "code",
   "execution_count": null,
   "metadata": {},
   "outputs": [],
   "source": [
    "curseur.description"
   ]
  },
  {
   "cell_type": "markdown",
   "metadata": {},
   "source": [
    "Nous obtenons les noms des divers champs de la base."
   ]
  },
  {
   "cell_type": "code",
   "execution_count": null,
   "metadata": {},
   "outputs": [],
   "source": [
    "[d[0] for d in curseur.description]"
   ]
  },
  {
   "cell_type": "markdown",
   "metadata": {},
   "source": [
    "Nous obtenons dans un tableau l'ensemble des noms des attributs.\n",
    "\n",
    "Executez le code suivant :"
   ]
  },
  {
   "cell_type": "code",
   "execution_count": null,
   "metadata": {},
   "outputs": [],
   "source": [
    "requete = \"SELECT * FROM RESULTATS WHERE departement=973;\"\n",
    "curseur.execute(requete)\n",
    "RESULTATS973 = curseur.fetchall()"
   ]
  },
  {
   "cell_type": "code",
   "execution_count": null,
   "metadata": {},
   "outputs": [],
   "source": [
    "print(RESULTATS974)"
   ]
  },
  {
   "cell_type": "markdown",
   "metadata": {},
   "source": [
    "Que représente ces données ?\n",
    "A vous de répondre :\n",
    "\n",
    "..................  \n",
    "\n",
    "\n",
    "..................  \n",
    "\n",
    "\n",
    ".................. Maintenant regardez maintenant ce code, que fait-il ?"
   ]
  },
  {
   "cell_type": "code",
   "execution_count": null,
   "metadata": {},
   "outputs": [],
   "source": [
    "essai = [RESULTATS974[i][7] for i in range(len(RESULTATS974))]\n"
   ]
  },
  {
   "cell_type": "code",
   "execution_count": null,
   "metadata": {},
   "outputs": [],
   "source": [
    "import numpy as np\n",
    "import matplotlib.pyplot as plt\n",
    "\n",
    "x = [i for i in range(len(RESULTATS974))]\n",
    "y = essai\n",
    "plt.plot(x, y)\n",
    "\n",
    "plt.show()\n",
    "\n",
    "# affiche la figure a l'ecran"
   ]
  },
  {
   "cell_type": "code",
   "execution_count": null,
   "metadata": {},
   "outputs": [],
   "source": [
    "print(essai)"
   ]
  },
  {
   "cell_type": "markdown",
   "metadata": {},
   "source": [
    "A vous de dire à quoi correspondent ces données et le graphe ?\n",
    "''' Commentez \n",
    "\n",
    "........................................................................\n",
    "\n",
    "\n",
    "......................................................................................\n",
    "\n",
    "\n",
    "......................................................................................\n",
    "\n",
    "\n",
    "..........................................................................Commentez'''\n",
    "\n",
    "Apportez des modifications au code ci-dessus pour afficher des légendes au graphe.\n",
    "\n"
   ]
  },
  {
   "cell_type": "markdown",
   "metadata": {},
   "source": [
    "## E) A VOUS DE JOUER\n",
    "\n",
    "Vous allez compléter la base de données avec une nouvelle table DECES en France.\n",
    "[Sur ce site](https://insee.fr/fr/statistiques/4487988?sommaire=4487854), vous trouverez toutes les informations nécessaires.\n",
    "\n",
    "Compléter le code suivant :\n"
   ]
  },
  {
   "cell_type": "code",
   "execution_count": null,
   "metadata": {},
   "outputs": [],
   "source": [
    "# Creation table DECES a COMPLETER\n",
    "requete = \"\"\"\n",
    "CREATE TABLE DECES\n",
    "(\n",
    "    Id INTEGER  PRIMARY KEY,\n",
    "    ........ ...........,\n",
    "    ........ ...........,\n",
    "    ........ ...........,\n",
    "    ........ ...........,\n",
    "    ........ ...........,\n",
    "    ........ ...........,\n",
    "    ........ ...........,\n",
    "    ........ ...........\n",
    ");\"\"\"\n",
    "curseur.execute(requete)\n",
    "\n",
    "# Creation de la table Resultats\n",
    "\n",
    "# YOUR CODE HERE\n",
    "# raise NotImplementedError()\n",
    "\n",
    "# On enregistre les changements !\n",
    "\n",
    "bdd.commit()\n",
    "# A compléter\n",
    "\n",
    "#import csv\n",
    "\n",
    "#with open('2020-31-07_deces_quotidiens_departement_csv.csv', newline='') as csvfile:\n",
    " #   nb_lignes = 0\n",
    " #  lignes = csv.reader(csvfile,delimiter=',')\n",
    " #   entete = True\n",
    " #   for l in lignes:\n",
    " #       if entete:\n",
    " #           entete = False\n",
    " #       else:\n",
    " #           nb_lignes += 1\n",
    " #           requete = f\"\"\"\n",
    " #           INSERT INTO DECES\n",
    " #               (date,....,....,....,..........,..........,............,Total_deces_2018)\n",
    " #           VALUES\n",
    " #               (?, ?, ?, ?, ?, ?,?)\n",
    " #           \"\"\"\n",
    " #           curseur.execute(requete, l)\n",
    "    bdd.commit()\n",
    "    print(f\"{nb_lignes} enregistrements créés\")"
   ]
  },
  {
   "cell_type": "markdown",
   "metadata": {},
   "source": [
    "Vérifiez que votre table a été créée en affichant les cimq premiers uplets."
   ]
  },
  {
   "cell_type": "code",
   "execution_count": null,
   "metadata": {},
   "outputs": [],
   "source": [
    "requete = \"SELECT * FROM DECES;\"\n",
    "curseur.execute(requete)\n",
    "#A compléter\n",
    "#A compléter\n",
    "#A compléter\n",
    "#A compléter"
   ]
  },
  {
   "cell_type": "markdown",
   "metadata": {},
   "source": [
    "Déterminer le nombre de déces en Guyane en 2019."
   ]
  },
  {
   "cell_type": "code",
   "execution_count": null,
   "metadata": {},
   "outputs": [],
   "source": [
    "#A compléter\n",
    "#A compléter\n",
    "#A compléter\n",
    "#A compléter"
   ]
  },
  {
   "cell_type": "markdown",
   "metadata": {},
   "source": [
    "Déterminer le nombre de déces en Guyane du au COVID-19 en 2019."
   ]
  },
  {
   "cell_type": "code",
   "execution_count": null,
   "metadata": {},
   "outputs": [],
   "source": [
    "#A compléter\n",
    "#A compléter\n",
    "#A compléter\n",
    "#A compléter"
   ]
  },
  {
   "cell_type": "markdown",
   "metadata": {},
   "source": [
    "Comparez les deux valeurs et conclure.\n",
    "\n",
    ".................................................................................................................\n",
    "\n",
    ".................................................................................................................\n",
    "\n",
    "Maintenant créer  un graphe avec deux courbes qui rendent compte de l'évolution des décès totales et ceux dus au COVID-19. "
   ]
  },
  {
   "cell_type": "code",
   "execution_count": null,
   "metadata": {},
   "outputs": [],
   "source": [
    "#A compléter\n",
    "#\n",
    "import numpy as np\n",
    "import matplotlib.pyplot as plt\n",
    "\n",
    "# x = [i for i in range(len(.........))]\n",
    "# y1 = ...........\n",
    "# y2 = ...........\n",
    "#\n",
    "#\n",
    "#\n",
    "plt.plot(..........)\n",
    "\n",
    "plt.show()\n",
    "\n",
    "# affiche la figure a l'ecran"
   ]
  },
  {
   "cell_type": "code",
   "execution_count": null,
   "metadata": {},
   "outputs": [],
   "source": [
    "bdd.close()"
   ]
  }
 ],
 "metadata": {
  "kernelspec": {
   "display_name": "Python 3",
   "language": "python",
   "name": "python3"
  },
  "language_info": {
   "codemirror_mode": {
    "name": "ipython",
    "version": 3
   },
   "file_extension": ".py",
   "mimetype": "text/x-python",
   "name": "python",
   "nbconvert_exporter": "python",
   "pygments_lexer": "ipython3",
   "version": "3.7.6"
  }
 },
 "nbformat": 4,
 "nbformat_minor": 4
}
